{
 "cells": [
  {
   "cell_type": "code",
   "execution_count": null,
   "metadata": {},
   "outputs": [],
   "source": []
  },
  {
   "cell_type": "code",
   "execution_count": 14,
   "metadata": {},
   "outputs": [],
   "source": [
    "import torch.nn as nn\n",
    "import torch.nn.functional as F\n",
    "\n",
    "class CustomFeedForwardNN(nn.Module):\n",
    "\n",
    "  def __init__(self, input_size, num_classes, hidden_dims, dropout, activation_fn):\n",
    "    super().__init__()\n",
    "\n",
    "    # Ensure that hidden_dims is a non-empty list\n",
    "    assert isinstance(hidden_dims, list) and len(hidden_dims) > 0\n",
    "\n",
    "    # Initialize a ModuleList to store the hidden layers\n",
    "    self.hidden_layers = nn.ModuleList()\n",
    "\n",
    "    # Input layer to first hidden layer\n",
    "    self.hidden_layers.append(nn.Linear(input_size, hidden_dims[0]))\n",
    "\n",
    "    # Subsequent hidden layers\n",
    "    for i in range(1, len(hidden_dims)):\n",
    "      self.hidden_layers.append(nn.Linear(hidden_dims[i-1], hidden_dims[i]))\n",
    "\n",
    "    # Set up the nonlinearity to use between layers.\n",
    "    self.nonlinearity = activation_fn\n",
    "\n",
    "    # Set up the dropout layer.\n",
    "    self.dropout = nn.Dropout(dropout)\n",
    "\n",
    "    # Set up the final transform to a distribution over classes.\n",
    "    self.output_projection = nn.Linear(hidden_dims[-1], num_classes)\n",
    "\n",
    "\n",
    "\n",
    "  def forward(self, x):\n",
    "    \n",
    "    # Apply the hidden layers, nonlinearity, and dropout.\n",
    "    for hidden_layer in self.hidden_layers:\n",
    "      x = hidden_layer(x)\n",
    "      x = self.nonlinearity(x)\n",
    "      x = self.dropout(x)\n",
    "      \n",
    "    # Output logits\n",
    "    out = self.output_projection(x)\n",
    "\n",
    "    return out"
   ]
  },
  {
   "cell_type": "code",
   "execution_count": 15,
   "metadata": {},
   "outputs": [],
   "source": [
    "import torch.nn as nn\n",
    "\n",
    "# Define the model parameters\n",
    "input_size = 28 * 28  # For 28x28 pixel images\n",
    "hidden_dims = [512, 256, 128]\n",
    "num_classes = 10  # Number of output classes in FashionMNIST\n",
    "dropout_rate = 0.2\n",
    "activation_fn = nn.ReLU()  # Example activation function\n",
    "\n",
    "# Instantiate the model\n",
    "model = CustomFeedForwardNN(input_size, num_classes, hidden_dims, dropout_rate, activation_fn)\n"
   ]
  },
  {
   "cell_type": "code",
   "execution_count": 16,
   "metadata": {},
   "outputs": [
    {
     "data": {
      "text/plain": [
       "==========================================================================================\n",
       "Layer (type:depth-idx)                   Output Shape              Param #\n",
       "==========================================================================================\n",
       "CustomFeedForwardNN                      [1, 10]                   --\n",
       "├─ModuleList: 1-7                        --                        (recursive)\n",
       "│    └─Linear: 2-1                       [1, 512]                  401,920\n",
       "├─ReLU: 1-2                              [1, 512]                  --\n",
       "├─Dropout: 1-3                           [1, 512]                  --\n",
       "├─ModuleList: 1-7                        --                        (recursive)\n",
       "│    └─Linear: 2-2                       [1, 256]                  131,328\n",
       "├─ReLU: 1-5                              [1, 256]                  --\n",
       "├─Dropout: 1-6                           [1, 256]                  --\n",
       "├─ModuleList: 1-7                        --                        (recursive)\n",
       "│    └─Linear: 2-3                       [1, 128]                  32,896\n",
       "├─ReLU: 1-8                              [1, 128]                  --\n",
       "├─Dropout: 1-9                           [1, 128]                  --\n",
       "├─Linear: 1-10                           [1, 10]                   1,290\n",
       "==========================================================================================\n",
       "Total params: 567,434\n",
       "Trainable params: 567,434\n",
       "Non-trainable params: 0\n",
       "Total mult-adds (Units.MEGABYTES): 0.57\n",
       "==========================================================================================\n",
       "Input size (MB): 0.00\n",
       "Forward/backward pass size (MB): 0.01\n",
       "Params size (MB): 2.27\n",
       "Estimated Total Size (MB): 2.28\n",
       "=========================================================================================="
      ]
     },
     "execution_count": 16,
     "metadata": {},
     "output_type": "execute_result"
    }
   ],
   "source": [
    "from torchinfo import summary\n",
    "summary(model, input_size=(1,input_size))"
   ]
  },
  {
   "cell_type": "code",
   "execution_count": 11,
   "metadata": {},
   "outputs": [
    {
     "name": "stdout",
     "output_type": "stream",
     "text": [
      "Downloading http://fashion-mnist.s3-website.eu-central-1.amazonaws.com/train-images-idx3-ubyte.gz\n",
      "Downloading http://fashion-mnist.s3-website.eu-central-1.amazonaws.com/train-images-idx3-ubyte.gz to ./torchvision-data\\FashionMNIST\\raw\\train-images-idx3-ubyte.gz\n"
     ]
    },
    {
     "name": "stderr",
     "output_type": "stream",
     "text": [
      "100%|██████████| 26421880/26421880 [00:11<00:00, 2392749.71it/s]\n"
     ]
    },
    {
     "name": "stdout",
     "output_type": "stream",
     "text": [
      "Extracting ./torchvision-data\\FashionMNIST\\raw\\train-images-idx3-ubyte.gz to ./torchvision-data\\FashionMNIST\\raw\n",
      "\n",
      "Downloading http://fashion-mnist.s3-website.eu-central-1.amazonaws.com/train-labels-idx1-ubyte.gz\n",
      "Downloading http://fashion-mnist.s3-website.eu-central-1.amazonaws.com/train-labels-idx1-ubyte.gz to ./torchvision-data\\FashionMNIST\\raw\\train-labels-idx1-ubyte.gz\n"
     ]
    },
    {
     "name": "stderr",
     "output_type": "stream",
     "text": [
      "100%|██████████| 29515/29515 [00:00<00:00, 120976.14it/s]\n"
     ]
    },
    {
     "name": "stdout",
     "output_type": "stream",
     "text": [
      "Extracting ./torchvision-data\\FashionMNIST\\raw\\train-labels-idx1-ubyte.gz to ./torchvision-data\\FashionMNIST\\raw\n",
      "\n",
      "Downloading http://fashion-mnist.s3-website.eu-central-1.amazonaws.com/t10k-images-idx3-ubyte.gz\n",
      "Downloading http://fashion-mnist.s3-website.eu-central-1.amazonaws.com/t10k-images-idx3-ubyte.gz to ./torchvision-data\\FashionMNIST\\raw\\t10k-images-idx3-ubyte.gz\n"
     ]
    },
    {
     "name": "stderr",
     "output_type": "stream",
     "text": [
      "100%|██████████| 4422102/4422102 [00:03<00:00, 1458406.01it/s]\n"
     ]
    },
    {
     "name": "stdout",
     "output_type": "stream",
     "text": [
      "Extracting ./torchvision-data\\FashionMNIST\\raw\\t10k-images-idx3-ubyte.gz to ./torchvision-data\\FashionMNIST\\raw\n",
      "\n",
      "Downloading http://fashion-mnist.s3-website.eu-central-1.amazonaws.com/t10k-labels-idx1-ubyte.gz\n",
      "Downloading http://fashion-mnist.s3-website.eu-central-1.amazonaws.com/t10k-labels-idx1-ubyte.gz to ./torchvision-data\\FashionMNIST\\raw\\t10k-labels-idx1-ubyte.gz\n"
     ]
    },
    {
     "name": "stderr",
     "output_type": "stream",
     "text": [
      "100%|██████████| 5148/5148 [00:00<?, ?it/s]"
     ]
    },
    {
     "name": "stdout",
     "output_type": "stream",
     "text": [
      "Extracting ./torchvision-data\\FashionMNIST\\raw\\t10k-labels-idx1-ubyte.gz to ./torchvision-data\\FashionMNIST\\raw\n",
      "\n"
     ]
    },
    {
     "name": "stderr",
     "output_type": "stream",
     "text": [
      "\n"
     ]
    }
   ],
   "source": [
    "from torchvision.transforms import transforms \n",
    "from torchvision.datasets import FashionMNIST\n",
    "\n",
    "### Loading MINST data\n",
    "\n",
    "# Define Transformation\n",
    "transform = transforms.ToTensor()\n",
    "\n",
    "train_dataset = FashionMNIST(root='./torchvision-data',\n",
    "                             train=True,\n",
    "                             transform=transforms,\n",
    "                             download=True)\n",
    "\n",
    "test_dataset = FashionMNIST(root='./torchvision-data', \n",
    "                            train=False,\n",
    "                            transform=transforms,\n",
    "                            download=True)"
   ]
  },
  {
   "cell_type": "code",
   "execution_count": null,
   "metadata": {},
   "outputs": [],
   "source": []
  }
 ],
 "metadata": {
  "kernelspec": {
   "display_name": "venv",
   "language": "python",
   "name": "python3"
  },
  "language_info": {
   "codemirror_mode": {
    "name": "ipython",
    "version": 3
   },
   "file_extension": ".py",
   "mimetype": "text/x-python",
   "name": "python",
   "nbconvert_exporter": "python",
   "pygments_lexer": "ipython3",
   "version": "3.12.9"
  }
 },
 "nbformat": 4,
 "nbformat_minor": 2
}
